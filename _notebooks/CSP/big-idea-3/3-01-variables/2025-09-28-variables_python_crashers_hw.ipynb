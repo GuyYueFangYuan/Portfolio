{
 "cells": [
  {
   "cell_type": "raw",
   "id": "f8d46d8e",
   "metadata": {
    "vscode": {
     "languageId": "raw"
    }
   },
   "source": [
    "---\n",
    "layout: post\n",
    "title: \"3.1 Variables & Assignments hacks - Python\"\n",
    "categories: [Programming Fundamentals, Tutorial]\n",
    "tags: [python, variables, assignment, beginner]\n",
    "description: Apply your understanding of Variables & Assignments with these Python hacks\n",
    "permalink: /python/variables/crashers-hw\n",
    "author: Aditya Srivastava\n",
    "---"
   ]
  },
  {
   "cell_type": "markdown",
   "id": "e48e5dfd",
   "metadata": {},
   "source": [
    "# 🐷 Peppa Maze Variables & Assignments Hacks (Python)\n",
    "Welcome to the Peppa Maze hacks! These challenges will test your understanding of variables, assignments, and logic in Python. Read each task, then write or modify code to solve it."
   ]
  },
  {
   "cell_type": "markdown",
   "id": "7333747d",
   "metadata": {},
   "source": [
    "## Hack 1: Python - Variable Assignment, Naming, and Operators\n",
    "Create variables for Peppa's name, score, and level using good Python naming conventions. Assign initial values, then use operators to update score (add 10) and level (multiply by 2). Print all results."
   ]
  },
  {
   "cell_type": "code",
   "execution_count": 2,
   "id": "febf933f",
   "metadata": {},
   "outputs": [
    {
     "name": "stdout",
     "output_type": "stream",
     "text": [
      "Name: Peppa\n",
      "score: 10\n",
      "level: 2\n",
      "Peppa is on level 2 with a score of 10\n"
     ]
    }
   ],
   "source": [
    "# Write your code here\n",
    "# Create variables for Peppa's name, score, and level\n",
    "# Use operators to update score and level\n",
    "\n",
    "Peppa_name = \"Peppa\"\n",
    "Peppa_score = 0\n",
    "Level = 1\n",
    "\n",
    "Peppa_score = Peppa_score + 10\n",
    "Level = Level + 1\n",
    "print(\"Name:\",Peppa_name)\n",
    "print(\"score:\",Peppa_score)\n",
    "print(\"level:\",Level)\n",
    "print(Peppa_name, \"is on level\", Level, \"with a score of\", Peppa_score  )"
   ]
  },
  {
   "cell_type": "markdown",
   "id": "a3133f05",
   "metadata": {},
   "source": [
    "## Hack 2: Python - Variable Declaration, Assignment, and Operators\n",
    "Declare variables for Peppa and George's scores using good Python naming conventions. Assign initial values, then use operators to update both scores (e.g., Peppa gets 15 points, George loses 5 points). Print both scores."
   ]
  },
  {
   "cell_type": "code",
   "execution_count": 11,
   "id": "d8501a2d",
   "metadata": {},
   "outputs": [
    {
     "name": "stdout",
     "output_type": "stream",
     "text": [
      "Peppa's score: 35\n",
      "George's score: 5\n"
     ]
    }
   ],
   "source": [
    "# Write your code here\n",
    "# Declare variables for Peppa and George's scores\n",
    "# Use operators to update both scores\n",
    "Peppa_score = 20\n",
    "George_score = 10\n",
    "Peppa_score = Peppa_score + 15\n",
    "George_score = George_score -5\n",
    "print(\"Peppa's score:\",Peppa_score)\n",
    "print(\"George's score:\",George_score)"
   ]
  },
  {
   "cell_type": "markdown",
   "id": "f248c523",
   "metadata": {},
   "source": [
    "## Hack 3: Python - Multiple Assignment and Math Operators\n",
    "Peppa and George both start at level 1. Use Python's multiple assignment feature to assign both their levels to 5 in one line. Then, calculate a combined score by multiplying their levels together and multiplying by 10. Print all results."
   ]
  },
  {
   "cell_type": "code",
   "execution_count": 12,
   "id": "bfd55c97",
   "metadata": {},
   "outputs": [
    {
     "name": "stdout",
     "output_type": "stream",
     "text": [
      "Peppa's level: 5\n",
      "George's level: 5\n",
      "Combined score: 250\n"
     ]
    }
   ],
   "source": [
    "# Write your code here\n",
    "# assign peppa level\n",
    "# assign george level\n",
    "# Assign both levels to 5 in one line using multiple assignment\n",
    "# combined_score = peppa_level * george_level * 10\n",
    "# Print all results\n",
    "\n",
    "Peppa_level = 1\n",
    "George_level = 1\n",
    "Peppa_level, George_level = 5, 5\n",
    "combined_score = Peppa_level * George_level * 10\n",
    "print(\"Peppa's level:\",Peppa_level)\n",
    "print(\"George's level:\",George_level)\n",
    "print(\"Combined score:\",combined_score)"
   ]
  }
 ],
 "metadata": {
  "kernelspec": {
   "display_name": "venv (3.12.3)",
   "language": "python",
   "name": "python3"
  },
  "language_info": {
   "codemirror_mode": {
    "name": "ipython",
    "version": 3
   },
   "file_extension": ".py",
   "mimetype": "text/x-python",
   "name": "python",
   "nbconvert_exporter": "python",
   "pygments_lexer": "ipython3",
   "version": "3.12.3"
  }
 },
 "nbformat": 4,
 "nbformat_minor": 5
}
