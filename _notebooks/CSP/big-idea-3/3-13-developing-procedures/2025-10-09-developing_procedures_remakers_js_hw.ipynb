{
 "cells": [
  {
   "cell_type": "raw",
   "id": "347e901f",
   "metadata": {
    "vscode": {
     "languageId": "raw"
    }
   },
   "source": [
    "---\n",
    "toc: true\n",
    "layout: post\n",
    "categories: [JavaScript]\n",
    "title: Remakers - 3.13 Developing Procedures JS Hacks\n",
    "description: \"Apply your skills to basic procedure development in Javascript.\"\n",
    "permalink: /javascript/developing-procedures/remakers-hw\n",
    "author: Krishna Visvanath, Sloane Sommers\n",
    "---"
   ]
  },
  {
   "cell_type": "raw",
   "id": "38483feb",
   "metadata": {
    "vscode": {
     "languageId": "raw"
    }
   },
   "source": [
    "### Q1 (Easy)\n",
    "Which of these procedures is named wrong, provide a **short** explanation of justification"
   ]
  },
  {
   "cell_type": "code",
   "execution_count": null,
   "id": "690e6f19",
   "metadata": {},
   "outputs": [],
   "source": [
    "\n",
    "\n",
    "function mixIngredients()\n",
    "\n",
    "function doIt() //This procedure is named wrong since it provides a very vague describtion that doesn't actually specify what the function does.\n",
    "\n",
    "\n",
    "function makeLeftTurn()"
   ]
  },
  {
   "cell_type": "markdown",
   "id": "bff45a3e",
   "metadata": {},
   "source": [
    "**Explanation Here:**\n",
    "__ is right because.."
   ]
  },
  {
   "cell_type": "markdown",
   "id": "e5480b09",
   "metadata": {},
   "source": [
    "### Q2 (Medium)\n",
    "Finish the code to have a correctly named procedure"
   ]
  },
  {
   "cell_type": "code",
   "execution_count": 4,
   "id": "4bc531e4",
   "metadata": {},
   "outputs": [
    {
     "name": "stdout",
     "output_type": "stream",
     "text": [
      "Moving forward.\n",
      "Turning left\n",
      "Moving forward again to complete left turn.\n"
     ]
    }
   ],
   "source": [
    "\n",
    "function makeLeftTurn() {\n",
    "    moveForward() ;\n",
    "    rotate180() ;\n",
    "    moveForwardagain() ;\n",
    "}\n",
    "//Todo: add corresponding procedure definitions\n",
    "\n",
    "    function moveForward() {\n",
    "console.log(\"Moving forward.\");\n",
    "}\n",
    "\n",
    "    function rotate180() {\n",
    "console.log(\"Turning left\");\n",
    "}\n",
    "\n",
    "    function moveForwardagain() {\n",
    "console.log(\"Moving forward again to complete left turn.\");\n",
    "}\n",
    "\n",
    "makeLeftTurn()"
   ]
  },
  {
   "cell_type": "code",
   "execution_count": null,
   "id": "d6c06eb0",
   "metadata": {},
   "outputs": [],
   "source": [
    "### Q3 (Hard)\n",
    "Write code to fulfill the requirements\n",
    "Doing a dance! 🕺💃\n",
    "Must have\n",
    "1. A shimmy left procedure\n",
    "- Print `super cool left slide`\n",
    "2. A shimmy right procedure, print `even cooler right slide`\n",
    "3. Doing a bow to the crowd, print `Great dance!`, `the audience claps at your bow!`"
   ]
  },
  {
   "cell_type": "code",
   "execution_count": null,
   "id": "818139d1",
   "metadata": {},
   "outputs": [],
   "source": [
    "//Code away!\n",
    "function performDance() {\n",
    "    moveLeft() ;\n",
    "    moveRight() ;\n",
    "    bowFinish() ;\n",
    "}\n",
    "\n",
    "    function moveLeft() {\n",
    "console.log(\"cool cool left slide\")\n",
    "    }\n",
    "    function moveRight() {\n",
    "console.log(\"even cooler right slide\")\n",
    "    }\n",
    "    function bowFinish() {\n",
    "console.log(\"Great dance! the audience claps at your bow!\")\n",
    "    }\n",
    "\n",
    "performDance()"
   ]
  }
 ],
 "metadata": {
  "kernelspec": {
   "display_name": "JavaScript (Node.js)",
   "language": "javascript",
   "name": "javascript"
  },
  "language_info": {
   "file_extension": ".js",
   "mimetype": "application/javascript",
   "name": "javascript",
   "version": "20.19.5"
  }
 },
 "nbformat": 4,
 "nbformat_minor": 5
}
